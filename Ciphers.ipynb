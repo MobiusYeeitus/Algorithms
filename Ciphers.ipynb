{
 "cells": [
  {
   "cell_type": "markdown",
   "metadata": {},
   "source": [
    "## Ciphers"
   ]
  },
  {
   "cell_type": "markdown",
   "metadata": {},
   "source": [
    "#### Global Constants and Libraries"
   ]
  },
  {
   "cell_type": "code",
   "execution_count": 20,
   "metadata": {},
   "outputs": [],
   "source": [
    "import logging\n",
    "\n",
    "from tqdm import trange,tqdm\n",
    "\n",
    "DEFAULT_GLOBAL_PLAINTEXT='WORD'\n",
    "DEFAULT_GLOBAL_ALPHABET_COUNT=26"
   ]
  },
  {
   "cell_type": "markdown",
   "metadata": {},
   "source": [
    "#### Function Breakdowns\n",
    "---\n",
    "##### Generate_Logger\n",
    "Generates a logger with default parameters for logging critical components and debugging\n",
    "##### List Initializer\n",
    "Helper function to shorten and simplify initializing and re-initializing lists with values\n",
    "##### Store Parameters\n",
    "Stores user-input(s) inside class variables (lists)"
   ]
  },
  {
   "cell_type": "code",
   "execution_count": 21,
   "metadata": {},
   "outputs": [],
   "source": [
    "class Cipher:\n",
    "    if True:\n",
    "        logger=logging.getLogger()\n",
    "        stored_logger_level=[logging.DEBUG]\n",
    "\n",
    "        stored_alphabet_count=[0]\n",
    "        stored_plaintext=['']\n",
    "\n",
    "        preferred_encryptor=['shift']\n",
    "\n",
    "        default_shift=[3]\n",
    "    def __init__ (self,plaintext=DEFAULT_GLOBAL_PLAINTEXT,alphabet_count=DEFAULT_GLOBAL_ALPHABET_COUNT,\n",
    "                  encryptor=preferred_encryptor[0]):\n",
    "        if True:\n",
    "            logger=self.Generate_Logger(filename='Ciphers.log')\n",
    "            self.Store_Parameters(plaintext=plaintext,alphabet_count=alphabet_count,encryptor=encryptor)\n",
    "    def Generate_Logger(self,filename='default_logger_name.log'):\n",
    "        logging.basicConfig(filename=filename,format='%(asctime)s - %(levelname)s: %(message)s',\n",
    "                            datefmt='%Y-%m-%d %H:%M:%S',filemode='w',level=self.stored_logger_level[0])\n",
    "        logger=logging.getLogger()\n",
    "        logger.debug('Logger initialized.')\n",
    "        return logger\n",
    "    def List_Initializer(self,input_list,input_param):\n",
    "        input_list.clear()\n",
    "        input_list.append(input_param)\n",
    "    def Store_Parameters(self,plaintext,alphabet_count,encryptor):\n",
    "        self.logger.debug('Storing Parameters.')\n",
    "        self.List_Initializer(self.stored_plaintext,plaintext)\n",
    "        self.List_Initializer(self.stored_alphabet_count,alphabet_count)\n",
    "        self.List_Initializer(self.preferred_encryptor,encryptor)\n",
    "\n",
    "    def Encryptor(self,plaintext=stored_plaintext,encryptor=preferred_encryptor,shift=default_shift):\n",
    "        ciphertext=['']\n",
    "        self.logger.debug('Encrypting \\''+str(plaintext[0])+'\\' w/ '+str(encryptor[0])+'.')\n",
    "        match encryptor[0]:\n",
    "            case 'shift':\n",
    "                shift_verbo='Encrypting with shift ['+str(shift)+'] cipher'\n",
    "                for i in trange(len(plaintext[0]),desc=shift_verbo):\n",
    "                    ciphertext[0]=ciphertext[0]+chr(ord(plaintext[0][i])+shift[0])\n",
    "                return ciphertext\n",
    "\n"
   ]
  },
  {
   "cell_type": "code",
   "execution_count": 22,
   "metadata": {},
   "outputs": [],
   "source": [
    "cy=Cipher(plaintext='serendipity',encryptor='shift')\n"
   ]
  },
  {
   "cell_type": "code",
   "execution_count": 23,
   "metadata": {},
   "outputs": [
    {
     "name": "stderr",
     "output_type": "stream",
     "text": [
      "Encrypting with shift [[5]] cipher: 100%|██████████| 11/11 [00:00<?, ?it/s]\n"
     ]
    },
    {
     "data": {
      "text/plain": [
       "['xjwjsinuny~']"
      ]
     },
     "execution_count": 23,
     "metadata": {},
     "output_type": "execute_result"
    }
   ],
   "source": [
    "cy.Encryptor(shift=[5])"
   ]
  },
  {
   "cell_type": "code",
   "execution_count": 24,
   "metadata": {},
   "outputs": [
    {
     "data": {
      "text/plain": [
       "'serendipity'"
      ]
     },
     "execution_count": 24,
     "metadata": {},
     "output_type": "execute_result"
    }
   ],
   "source": [
    "cy.stored_plaintext[0]"
   ]
  }
 ],
 "metadata": {
  "kernelspec": {
   "display_name": "Python 3",
   "language": "python",
   "name": "python3"
  },
  "language_info": {
   "codemirror_mode": {
    "name": "ipython",
    "version": 3
   },
   "file_extension": ".py",
   "mimetype": "text/x-python",
   "name": "python",
   "nbconvert_exporter": "python",
   "pygments_lexer": "ipython3",
   "version": "3.11.2"
  }
 },
 "nbformat": 4,
 "nbformat_minor": 2
}
