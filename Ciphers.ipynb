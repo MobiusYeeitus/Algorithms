{
 "cells": [
  {
   "cell_type": "markdown",
   "metadata": {},
   "source": [
    "## Ciphers"
   ]
  },
  {
   "cell_type": "markdown",
   "metadata": {},
   "source": [
    "#### Global Constants and Libraries"
   ]
  },
  {
   "cell_type": "code",
   "execution_count": 1,
   "metadata": {},
   "outputs": [],
   "source": [
    "import logging\n",
    "import math\n",
    "import numpy as np\n",
    "\n",
    "from tqdm import trange,tqdm\n",
    "\n",
    "DEFAULT_GLOBAL_PLAINTEXT='WORD'\n",
    "DEFAULT_GLOBAL_ALPHABET_COUNT=26"
   ]
  },
  {
   "cell_type": "markdown",
   "metadata": {},
   "source": [
    "#### Minor Function Breakdowns\n",
    "---\n",
    "##### Generate_Logger\n",
    "Generates a logger with default parameters for logging critical components and debugging\n",
    "##### List Initializer\n",
    "Helper function to shorten and simplify initializing and re-initializing lists with values\n",
    "##### List Appender\n",
    "Very useless\n",
    "##### Store Parameters\n",
    "Stores user-input(s) inside class variables (lists)\n",
    "##### Is_CoPrime\n",
    "Checks an integer if said integer is coprime relative to stored alphabet count, returns bool True/False\n",
    "##### Inverse_Mod\n",
    "Returns the inverse mod of an integer\n",
    "##### Determinant_of_Mat\n",
    "Returns the determinant of a 'n by n' matrix\n",
    "##### Matrix_Mult\n",
    "Multiplies two matrices using numpy dot function and returns it in list format. If contained=True, it will modulo the numbers over alphabet_count\n",
    "##### Vignere_Key_Generator\n",
    "Returns the key for vignere cipher based on text length\n",
    "##### Hill_Text_Splitter\n",
    "Splits the text based on the length given into a list. Returns said list. If mismatched lengths, pass\n",
    "##### Hill_TextM_to_IntM\n",
    "Converts and returns a matrix of strings into a matrix on integers based of modulo of alphabet_count\n",
    "##### Flatten_List\n",
    "Flattens a 2D list into a 1D list and returns it\n",
    "##### Crop_Matrix [ChatGPT]\n",
    "Crops a matrix into the desired shape using list comprehension and returns it. List comprehension is best read from right to left like manga.\n",
    "##### Crop_Matrix_Determinant [Custom]\n",
    "Crops a matrix into the desired shape, while looping over both horizontally and vertically. It works perfectly, refer to scratchbook for example."
   ]
  },
  {
   "cell_type": "markdown",
   "metadata": {},
   "source": [
    "#### Encryptor\n",
    "---"
   ]
  },
  {
   "cell_type": "markdown",
   "metadata": {},
   "source": [
    "#### Decryptor\n",
    "---"
   ]
  },
  {
   "cell_type": "markdown",
   "metadata": {},
   "source": [
    "#### To-Do List\n",
    "- [Major] Write the sections for Encryptor and Decryptor\n",
    "\n",
    "- [Minor] Implement numbers into null cipher\n",
    "\n",
    "- [Minor+] Create a error handler for the IndexError in Hill_Text_Splitter\n",
    "\n",
    "- ~~[Major-] Convert Matrix_Mult to custom code~~ [Did not need]"
   ]
  },
  {
   "cell_type": "markdown",
   "metadata": {},
   "source": [
    "#### Bug List\n",
    "- "
   ]
  },
  {
   "cell_type": "code",
   "execution_count": 2,
   "metadata": {},
   "outputs": [
    {
     "data": {
      "text/plain": [
       "7"
      ]
     },
     "execution_count": 2,
     "metadata": {},
     "output_type": "execute_result"
    }
   ],
   "source": [
    "ord('H')-ord('A')"
   ]
  },
  {
   "cell_type": "code",
   "execution_count": 3,
   "metadata": {},
   "outputs": [],
   "source": [
    "class Cipher:\n",
    "    if True:\n",
    "        logger=logging.getLogger()\n",
    "        stored_logger_level=[logging.DEBUG]\n",
    "\n",
    "        stored_alphabet_count=[0]\n",
    "        stored_plaintext=['']\n",
    "        stored_ciphertext=['','']\n",
    "\n",
    "        preferred_encryptor=['shift']\n",
    "\n",
    "        default_shift=[3]\n",
    "        default_key=[5]\n",
    "\n",
    "    def __init__ (self,plaintext=DEFAULT_GLOBAL_PLAINTEXT,alphabet_count=DEFAULT_GLOBAL_ALPHABET_COUNT,\n",
    "                  encryptor=preferred_encryptor[0],\n",
    "                  shift=default_shift[0],key=default_key[0]):\n",
    "        if True:\n",
    "            logger=self.Generate_Logger(filename='Ciphers.log')\n",
    "            self.Store_Parameters(plaintext=plaintext.upper(),alphabet_count=alphabet_count,encryptor=encryptor,shift=shift,key=key)\n",
    "    def Generate_Logger(self,filename='default_logger_name.log'):\n",
    "        logging.basicConfig(filename=filename,format='%(asctime)s - %(levelname)s: %(message)s',\n",
    "                            datefmt='%Y-%m-%d %H:%M:%S',filemode='w',level=self.stored_logger_level[0])\n",
    "        logger=logging.getLogger()\n",
    "        logger.debug('Logger initialized.')\n",
    "        return logger\n",
    "    def List_Initializer(self,input_list,input_param):\n",
    "        input_list.clear()\n",
    "        input_list.append(input_param)\n",
    "    def List_Appender(self,input_list,input_param):\n",
    "        input_list.append(input_param)\n",
    "    def Store_Parameters(self,plaintext,alphabet_count,encryptor,shift,key):\n",
    "        self.logger.debug('Storing Parameters.')\n",
    "        self.List_Initializer(self.stored_plaintext,plaintext)\n",
    "        self.List_Initializer(self.stored_alphabet_count,alphabet_count)\n",
    "        \n",
    "        self.List_Initializer(self.preferred_encryptor,encryptor)\n",
    "\n",
    "        self.List_Initializer(self.default_shift,shift)\n",
    "        self.List_Initializer(self.default_key,key)\n",
    "    def Is_CoPrime(self,input): \n",
    "        if math.gcd(input,self.stored_alphabet_count[0])==1:\n",
    "            return True\n",
    "        else:\n",
    "            return False\n",
    "    def Inverse_Mod(self,input):\n",
    "        return pow(input,-1,self.stored_alphabet_count[0])\n",
    "    def Determinant_of_Mat(self,input):\n",
    "        if len(input)>2:\n",
    "            result=0\n",
    "            for i in range(len(input)):\n",
    "                result+=input[0][i]*self.Determinant_of_Mat(self.Crop_Matrix_Determinant(input,start_row=1,start_col=i+1,size=len(input)-1))\n",
    "            return result\n",
    "        else:\n",
    "            temp=(input[0][0]*input[1][1]) -(input[1][0]*input[0][1])\n",
    "            return temp\n",
    "    def Matrix_Mult(self,input1,input2,contained=False):\n",
    "        list1=np.array(input1)\n",
    "        list2=np.array(input2)\n",
    "        result=np.dot(list1,list2).tolist()\n",
    "        if contained==True:\n",
    "            result_saved=result\n",
    "            try:\n",
    "                result=[]\n",
    "                for row in result_saved:\n",
    "                    temp=[]\n",
    "                    for col in range(len(row)):\n",
    "                        temp.append(row[col]%self.stored_alphabet_count[0])\n",
    "                    result.append(temp)\n",
    "            except TypeError:\n",
    "                result=[]\n",
    "                for col in range(len(result_saved)):\n",
    "                    result.append(result_saved[col]%self.stored_alphabet_count[0])\n",
    "        return result\n",
    "    def Vignere_Key_Generator(self,text,input):\n",
    "        key=''\n",
    "        for i in range(math.ceil(len(text)/len(input))):\n",
    "            key+=input\n",
    "        return key[:len(text)]\n",
    "    def Hill_Text_Splitter(self,text,length):\n",
    "        result=[]\n",
    "        for i in range(math.ceil(len(text)/length)):\n",
    "            temp=''\n",
    "            try:\n",
    "                for j in range(length):\n",
    "                    temp+=text[i*length+j]\n",
    "                result.append(temp)\n",
    "            except IndexError:\n",
    "                pass\n",
    "                #result.append(text[len(text)-1]+''.join([for i in range()]))\n",
    "        return result\n",
    "    def Hill_TextM_to_IntM(self,input):\n",
    "        result=[]\n",
    "        ASCII_A=ord('A')\n",
    "        for string in input:\n",
    "            temp=[]\n",
    "            for char in string:\n",
    "                temp.append(ord(char)-ASCII_A)\n",
    "            result.append(temp)\n",
    "        return result\n",
    "    def Flatten_list(self,input):\n",
    "        return [item for row in input for item in row]\n",
    "    def Crop_Matrix(self,input,start_row,start_col,size):\n",
    "        return [row[start_col:start_col + size] for row in input[start_row:start_row + size]]\n",
    "    def Crop_Matrix_Determinant(self,input,start_row,start_col,size):\n",
    "        result=[]\n",
    "        for row in range(start_row,start_row+size):\n",
    "            temp=[]\n",
    "            for col in range(start_col,start_col+size):\n",
    "                temp.append(input[(row)%(size+1)][(col)%(size+1)])\n",
    "            result.append(temp)\n",
    "        return result\n",
    "    def Char_to_Binary(self,input):\n",
    "        return bin(ord(input))[2:].zfill(8)\n",
    "    def Binary_to_Char(self,input):\n",
    "        return chr(int(input,2))\n",
    "    def String_to_Binary(self,input):\n",
    "        string=''\n",
    "        for i in range(len(input)):\n",
    "            string+=self.Char_to_Binary(input[i])\n",
    "        return string\n",
    "    def Binary_to_String(self,input):\n",
    "        string=''\n",
    "        for i in range(int(len(input)/8)):\n",
    "            string+=self.Binary_to_Char(input[int(i*8):int((i+1)*8)])\n",
    "        return string\n",
    "    def Encryptor(self,in_plaintext=stored_plaintext,in_encryptor=preferred_encryptor,in_shift=default_shift,in_key=default_key):\n",
    "        ciphertext=''\n",
    "        plaintext=in_plaintext[0]\n",
    "        encryptor=in_encryptor[0]\n",
    "\n",
    "        ASCII_A=ord('A')\n",
    "\n",
    "        self.logger.debug('Encrypting \\''+plaintext+'\\' w/ '+encryptor+'.')\n",
    "        match encryptor:\n",
    "            case 'shift':\n",
    "                shift=in_shift[0]\n",
    "                shift_verbo='Encrypting with shift ['+str(shift)+'] cipher'\n",
    "                for i in trange(len(plaintext),desc=shift_verbo):\n",
    "                    x=ord(plaintext[i])-ASCII_A\n",
    "                    ciphertext+=chr(ASCII_A+(x+shift)%26)\n",
    "                self.List_Initializer(self.stored_ciphertext,ciphertext)\n",
    "                self.List_Appender(self.stored_ciphertext,encryptor)\n",
    "                self.List_Appender(self.stored_ciphertext,shift)\n",
    "            case 'affine':\n",
    "                a_key=in_key[0]\n",
    "                if self.Is_CoPrime(a_key):\n",
    "                    self.logger.debug('Co-prime check passed.')\n",
    "                    b_key=in_shift[0]\n",
    "                    affine_verbo='Encrypting with affine [a='+str(a_key)+'] [b='+str(b_key)+'] cipher'\n",
    "                    for i in trange(len(plaintext),desc=affine_verbo):\n",
    "                        x=ord(plaintext[i])-ASCII_A\n",
    "                        ciphertext+=chr(ASCII_A+((x*a_key)+b_key)%26)\n",
    "                    self.List_Initializer(self.stored_ciphertext,ciphertext)\n",
    "                    self.List_Appender(self.stored_ciphertext,encryptor)\n",
    "                    self.List_Appender(self.stored_ciphertext,a_key)\n",
    "                    self.List_Appender(self.stored_ciphertext,b_key)\n",
    "                else:\n",
    "                    self.logger.error('Co-prime check failed.')\n",
    "            case 'vignere':\n",
    "                key=in_key[0]\n",
    "                key=self.Vignere_Key_Generator(plaintext,key)\n",
    "                vignere_verbo='Encrypting with vignere [key='+in_key[0]+'] cipher'\n",
    "                for i in trange(len(plaintext),desc=vignere_verbo):\n",
    "                    x=ord(plaintext[i])-ASCII_A\n",
    "                    k=ord(key[i])-ASCII_A\n",
    "                    ciphertext+=chr(ASCII_A+(x+k)%26)\n",
    "                self.List_Initializer(self.stored_ciphertext,ciphertext)\n",
    "                self.List_Appender(self.stored_ciphertext,encryptor)\n",
    "                self.List_Appender(self.stored_ciphertext,in_key[0])\n",
    "            case 'vernam':\n",
    "                key=in_key[0]\n",
    "                vernam_verbo='Encrypting with vernam [key='+key+'] cipher'\n",
    "                plaintext_bin=self.String_to_Binary(plaintext)\n",
    "                key_bin=self.String_to_Binary(key)\n",
    "                ciphertext_bin=''\n",
    "                if len(plaintext_bin)==len(key_bin):\n",
    "                    for i in trange(len(plaintext_bin),desc=vernam_verbo):\n",
    "                        ciphertext_bin+=str(int(plaintext_bin[i])^int(key_bin[i]))\n",
    "                    ciphertext=ciphertext_bin\n",
    "                    self.List_Initializer(self.stored_ciphertext,ciphertext)\n",
    "                    self.List_Appender(self.stored_ciphertext,encryptor)\n",
    "                    self.List_Appender(self.stored_ciphertext,key)\n",
    "                else:\n",
    "                    self.logger.error('Plaintext length != Key length in vernam cipher encryptor.')\n",
    "            case 'null':\n",
    "                null_dict={\n",
    "                    'A': 'Alpha',\n",
    "                    'B': 'Bravo',\n",
    "                    'C': 'Charlie',\n",
    "                    'D': 'Delta',\n",
    "                    'E': 'Echo',\n",
    "                    'F': 'Foxtrot',\n",
    "                    'G': 'Golf',\n",
    "                    'H': 'Hotel',\n",
    "                    'I': 'India',\n",
    "                    'J': 'Juliett',\n",
    "                    'K': 'Kilo',\n",
    "                    'L': 'Lima',\n",
    "                    'M': 'Mike',\n",
    "                    'N': 'November',\n",
    "                    'O': 'Oscar',\n",
    "                    'P': 'Papa',\n",
    "                    'Q': 'Quebec',\n",
    "                    'R': 'Romeo',\n",
    "                    'S': 'Sierra',\n",
    "                    'T': 'Tango',\n",
    "                    'U': 'Uniform',\n",
    "                    'V': 'Victor',\n",
    "                    'W': 'Whiskey',\n",
    "                    'X': 'X-Ray',\n",
    "                    'Y': 'Yankee',\n",
    "                    'Z': 'Zulu',\n",
    "                }\n",
    "                null_verbo='Encrypting with null cipher'\n",
    "                for i in trange(len(plaintext),desc=null_verbo):\n",
    "                    ciphertext+=null_dict.get(plaintext[i])+' '\n",
    "                self.List_Initializer(self.stored_ciphertext,ciphertext)\n",
    "                self.List_Appender(self.stored_ciphertext,encryptor)\n",
    "            case 'hill':\n",
    "                key_matrix=in_key[0]\n",
    "                ciphertext_int=[]\n",
    "                result=[]\n",
    "                determ=self.Determinant_of_Mat(key_matrix)\n",
    "                if determ>0:\n",
    "                    self.logger.debug('Determinant > 0 check passed.')\n",
    "                    if self.Is_CoPrime(determ):\n",
    "                        self.logger.debug('Co-prime check passed.')\n",
    "                        plaintext_int=self.Hill_TextM_to_IntM(self.Hill_Text_Splitter(plaintext,len(key_matrix)))\n",
    "                        hill_verbo='Encrypting with hill '+str(key_matrix)+' cipher'\n",
    "                        for textpart_int in tqdm(plaintext_int,desc=hill_verbo):\n",
    "                            ciphertext_int.append(self.Matrix_Mult(textpart_int,key_matrix))\n",
    "                        for row in ciphertext_int:\n",
    "                            for col in row:\n",
    "                                ciphertext+=(chr((col%26)+ASCII_A))\n",
    "                        self.List_Initializer(self.stored_ciphertext,ciphertext)\n",
    "                        self.List_Appender(self.stored_ciphertext,encryptor)\n",
    "                        self.List_Appender(self.stored_ciphertext,key_matrix)\n",
    "                    else:\n",
    "                        self.logger.error('Co-prime check failed.')\n",
    "                else:\n",
    "                    self.logger.error('Determinant > 0 check failed.')\n",
    "\n",
    "            \n",
    "        return [ciphertext]\n",
    "    def Decryptor(self,in_ciphertext=stored_ciphertext,in_decryptor=''):\n",
    "        plaintext=''\n",
    "        ciphertext=in_ciphertext[0]\n",
    "        if len(in_decryptor)>=1:\n",
    "            self.logger.debug('1')\n",
    "            decryptor=in_decryptor\n",
    "        else:\n",
    "            decryptor=in_ciphertext[1]\n",
    "\n",
    "        ASCII_A=ord('A')\n",
    "\n",
    "        self.logger.debug('Decrypting \\''+ciphertext+'\\' w/ '+decryptor+'.')\n",
    "        match decryptor:\n",
    "            case 'shift':\n",
    "                shift=in_ciphertext[2]\n",
    "                shift_verbo='Decrypting with shift ['+str(shift)+'] cipher'\n",
    "                for i in trange(len(ciphertext),desc=shift_verbo):\n",
    "                    y=ord(ciphertext[i])-ASCII_A\n",
    "                    plaintext+=chr(ASCII_A+((y-shift))%26)\n",
    "                self.List_Initializer(self.stored_plaintext,plaintext)\n",
    "                self.List_Appender(self.stored_plaintext,decryptor)\n",
    "                self.List_Appender(self.stored_plaintext,shift)\n",
    "            case 'affine':\n",
    "                a_key=in_ciphertext[2]\n",
    "                if self.Is_CoPrime(a_key):\n",
    "                    self.logger.debug('Co-prime check passed.')\n",
    "                    b_key=in_ciphertext[3]\n",
    "                    affine_verbo='Decrypting with affine [a='+str(a_key)+'] [b='+str(b_key)+'] cipher'\n",
    "                    for i in trange(len(ciphertext),desc=affine_verbo):\n",
    "                        y=ord(ciphertext[i])-ASCII_A\n",
    "                        plaintext+=chr(ASCII_A+(self.Inverse_Mod(a_key)*(y-b_key))%26)\n",
    "                self.List_Initializer(self.stored_plaintext,plaintext)\n",
    "                self.List_Appender(self.stored_plaintext,decryptor)\n",
    "                self.List_Appender(self.stored_plaintext,a_key)\n",
    "                self.List_Appender(self.stored_plaintext,b_key)\n",
    "            case 'vignere':\n",
    "                key=in_ciphertext[2]\n",
    "                key=self.Vignere_Key_Generator(ciphertext,key)\n",
    "                vignere_verbo='Decrypting with vignere [key='+in_ciphertext[2]+'] cipher'\n",
    "                for i in trange(len(ciphertext),desc=vignere_verbo):\n",
    "                    y=ord(ciphertext[i])-ASCII_A\n",
    "                    k=ord(key[i])-ASCII_A\n",
    "                    plaintext+=chr(ASCII_A+(y-k)%26)\n",
    "                self.List_Initializer(self.stored_plaintext,plaintext)\n",
    "                self.List_Appender(self.stored_plaintext,decryptor)\n",
    "                self.List_Appender(self.stored_plaintext,in_ciphertext[2])\n",
    "            case 'vernam':\n",
    "                key=in_ciphertext[2]\n",
    "                vernam_verbo='Decrypting with vernam [key='+key+'] cipher'\n",
    "                ciphertext_bin=ciphertext\n",
    "                key_bin=self.String_to_Binary(key)\n",
    "                plaintext_bin=''\n",
    "                if len(ciphertext_bin)==len(key_bin):\n",
    "                    for i in trange(len(ciphertext_bin),desc=vernam_verbo):\n",
    "                        plaintext_bin+=str(int(ciphertext_bin[i])^int(key_bin[i]))\n",
    "                    plaintext=self.Binary_to_String(plaintext_bin)\n",
    "                    self.List_Initializer(self.stored_plaintext,plaintext)\n",
    "                    self.List_Appender(self.stored_plaintext,decryptor)\n",
    "                    self.List_Appender(self.stored_plaintext,key)\n",
    "                else:\n",
    "                    self.logger.error('Ciphertext length != Key length in vernam cipher decryptor.')\n",
    "            case 'null':\n",
    "                null_verbo='Decrypting with null cipher'\n",
    "                temp_ciphertext=ciphertext.split()\n",
    "                for i in trange(len(temp_ciphertext),desc=null_verbo):\n",
    "                    plaintext+=temp_ciphertext[i][0]\n",
    "                self.List_Initializer(self.stored_plaintext,plaintext)\n",
    "                self.List_Appender(self.stored_plaintext,decryptor)\n",
    "            case 'hill':\n",
    "                self.logger.info('Hill decryptor not implemented yet.')\n",
    "        return [plaintext]\n"
   ]
  },
  {
   "cell_type": "code",
   "execution_count": 4,
   "metadata": {},
   "outputs": [],
   "source": [
    "cy=Cipher(plaintext='ACT',encryptor='hill',key=[[6,13,20],\n",
    "                                                [24,16,17],\n",
    "                                                [1,10,15]]) #G4G Example"
   ]
  },
  {
   "cell_type": "code",
   "execution_count": 5,
   "metadata": {},
   "outputs": [
    {
     "data": {
      "text/plain": [
       "['ACT']"
      ]
     },
     "execution_count": 5,
     "metadata": {},
     "output_type": "execute_result"
    }
   ],
   "source": [
    "cy.stored_plaintext"
   ]
  },
  {
   "cell_type": "code",
   "execution_count": 6,
   "metadata": {},
   "outputs": [
    {
     "name": "stderr",
     "output_type": "stream",
     "text": [
      "Encrypting with hill [[6, 13, 20], [24, 16, 17], [1, 10, 15]] cipher: 100%|██████████| 1/1 [00:00<?, ?it/s]\n"
     ]
    },
    {
     "data": {
      "text/plain": [
       "['POH']"
      ]
     },
     "execution_count": 6,
     "metadata": {},
     "output_type": "execute_result"
    }
   ],
   "source": [
    "cy.Encryptor()"
   ]
  },
  {
   "cell_type": "code",
   "execution_count": 7,
   "metadata": {},
   "outputs": [
    {
     "data": {
      "text/plain": [
       "['POH', 'hill', [[6, 13, 20], [24, 16, 17], [1, 10, 15]]]"
      ]
     },
     "execution_count": 7,
     "metadata": {},
     "output_type": "execute_result"
    }
   ],
   "source": [
    "cy.stored_ciphertext"
   ]
  },
  {
   "cell_type": "code",
   "execution_count": 8,
   "metadata": {},
   "outputs": [
    {
     "data": {
      "text/plain": [
       "['']"
      ]
     },
     "execution_count": 8,
     "metadata": {},
     "output_type": "execute_result"
    }
   ],
   "source": [
    "cy.Decryptor()"
   ]
  },
  {
   "cell_type": "code",
   "execution_count": 9,
   "metadata": {},
   "outputs": [
    {
     "data": {
      "text/plain": [
       "['ACT']"
      ]
     },
     "execution_count": 9,
     "metadata": {},
     "output_type": "execute_result"
    }
   ],
   "source": [
    "cy.stored_plaintext"
   ]
  }
 ],
 "metadata": {
  "kernelspec": {
   "display_name": "Python 3",
   "language": "python",
   "name": "python3"
  },
  "language_info": {
   "codemirror_mode": {
    "name": "ipython",
    "version": 3
   },
   "file_extension": ".py",
   "mimetype": "text/x-python",
   "name": "python",
   "nbconvert_exporter": "python",
   "pygments_lexer": "ipython3",
   "version": "3.11.2"
  }
 },
 "nbformat": 4,
 "nbformat_minor": 2
}
