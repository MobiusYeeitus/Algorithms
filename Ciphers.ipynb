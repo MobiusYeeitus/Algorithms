{
 "cells": [
  {
   "cell_type": "markdown",
   "metadata": {},
   "source": [
    "## Ciphers"
   ]
  },
  {
   "cell_type": "markdown",
   "metadata": {},
   "source": [
    "#### Global Constants and Libraries"
   ]
  },
  {
   "cell_type": "code",
   "execution_count": 135,
   "metadata": {},
   "outputs": [],
   "source": [
    "import logging\n",
    "import math\n",
    "\n",
    "from tqdm import trange,tqdm\n",
    "\n",
    "DEFAULT_GLOBAL_PLAINTEXT='WORD'\n",
    "DEFAULT_GLOBAL_ALPHABET_COUNT=26"
   ]
  },
  {
   "cell_type": "markdown",
   "metadata": {},
   "source": [
    "#### Function Breakdowns\n",
    "---\n",
    "##### Generate_Logger\n",
    "Generates a logger with default parameters for logging critical components and debugging\n",
    "##### List Initializer\n",
    "Helper function to shorten and simplify initializing and re-initializing lists with values\n",
    "##### List Appender\n",
    "Very useless\n",
    "##### Store Parameters\n",
    "Stores user-input(s) inside class variables (lists)\n",
    "##### Is_CoPrime\n",
    "Checks an integer if said integer is coprime relative to stored alphabet count, returns bool True/False\n",
    "##### Inverse_Mod\n",
    "Returns the inverse mod of an integer"
   ]
  },
  {
   "cell_type": "markdown",
   "metadata": {},
   "source": [
    "#### Encryptor\n",
    "---"
   ]
  },
  {
   "cell_type": "markdown",
   "metadata": {},
   "source": [
    "#### Decryptor\n",
    "---"
   ]
  },
  {
   "cell_type": "code",
   "execution_count": 136,
   "metadata": {},
   "outputs": [],
   "source": [
    "class Cipher:\n",
    "    if True:\n",
    "        logger=logging.getLogger()\n",
    "        stored_logger_level=[logging.DEBUG]\n",
    "\n",
    "        stored_alphabet_count=[0]\n",
    "        stored_plaintext=['']\n",
    "        stored_ciphertext=['','']\n",
    "\n",
    "        preferred_encryptor=['shift']\n",
    "\n",
    "        default_shift=[3]\n",
    "        default_key=[5]\n",
    "\n",
    "    def __init__ (self,plaintext=DEFAULT_GLOBAL_PLAINTEXT,alphabet_count=DEFAULT_GLOBAL_ALPHABET_COUNT,\n",
    "                  encryptor=preferred_encryptor[0],\n",
    "                  shift=default_shift[0],key=default_key[0]):\n",
    "        if True:\n",
    "            logger=self.Generate_Logger(filename='Ciphers.log')\n",
    "            self.Store_Parameters(plaintext=plaintext.upper(),alphabet_count=alphabet_count,encryptor=encryptor,shift=shift,key=key)\n",
    "    def Generate_Logger(self,filename='default_logger_name.log'):\n",
    "        logging.basicConfig(filename=filename,format='%(asctime)s - %(levelname)s: %(message)s',\n",
    "                            datefmt='%Y-%m-%d %H:%M:%S',filemode='w',level=self.stored_logger_level[0])\n",
    "        logger=logging.getLogger()\n",
    "        logger.debug('Logger initialized.')\n",
    "        return logger\n",
    "    def List_Initializer(self,input_list,input_param):\n",
    "        input_list.clear()\n",
    "        input_list.append(input_param)\n",
    "    def List_Appender(self,input_list,input_param):\n",
    "        input_list.append(input_param)\n",
    "    def Store_Parameters(self,plaintext,alphabet_count,encryptor,shift,key):\n",
    "        self.logger.debug('Storing Parameters.')\n",
    "        self.List_Initializer(self.stored_plaintext,plaintext)\n",
    "        self.List_Initializer(self.stored_alphabet_count,alphabet_count)\n",
    "        \n",
    "        self.List_Initializer(self.preferred_encryptor,encryptor)\n",
    "\n",
    "        self.List_Initializer(self.default_shift,shift)\n",
    "        self.List_Initializer(self.default_key,key)\n",
    "    def Is_CoPrime(self,input):\n",
    "        if math.gcd(input,self.stored_alphabet_count[0])==1:\n",
    "            return True\n",
    "        else:\n",
    "            return False\n",
    "    def Inverse_Mod(self,input):\n",
    "        return pow (input,-1,self.stored_alphabet_count[0])\n",
    "    def Vignere_Key_Generator(self,text,input):\n",
    "        key=''\n",
    "        for i in range(math.ceil(len(text)/len(input))):\n",
    "            key+=input\n",
    "        return key[:len(text)]\n",
    "    def Encryptor(self,in_plaintext=stored_plaintext,in_encryptor=preferred_encryptor,in_shift=default_shift,in_key=default_key):\n",
    "        ciphertext=''\n",
    "        plaintext=in_plaintext[0]\n",
    "        encryptor=in_encryptor[0]\n",
    "\n",
    "        ASCII_A=ord('A')\n",
    "\n",
    "        self.logger.debug('Encrypting \\''+plaintext+'\\' w/ '+encryptor+'.')\n",
    "        match encryptor:\n",
    "            case 'shift':\n",
    "                shift=in_shift[0]\n",
    "                shift_verbo='Encrypting with shift ['+str(shift)+'] cipher'\n",
    "                for i in trange(len(plaintext),desc=shift_verbo):\n",
    "                    x=ord(plaintext[i])-ASCII_A\n",
    "                    ciphertext+=chr(ASCII_A+(x+shift)%26)\n",
    "                self.List_Initializer(self.stored_ciphertext,ciphertext)\n",
    "                self.List_Appender(self.stored_ciphertext,encryptor)\n",
    "                self.List_Appender(self.stored_ciphertext,shift)\n",
    "            case 'affine':\n",
    "                a_key=in_key[0]\n",
    "                if self.Is_CoPrime(a_key):\n",
    "                    self.logger.debug('Co-prime check passed.')\n",
    "                    b_key=in_shift[0]\n",
    "                    affine_verbo='Encrypting with affine [a='+str(a_key)+'] [b='+str(b_key)+'] cipher'\n",
    "                    for i in trange(len(plaintext),desc=affine_verbo):\n",
    "                        x=ord(plaintext[i])-ASCII_A\n",
    "                        ciphertext+=chr(ASCII_A+((x*a_key)+b_key)%26)\n",
    "                    self.List_Initializer(self.stored_ciphertext,ciphertext)\n",
    "                    self.List_Appender(self.stored_ciphertext,encryptor)\n",
    "                    self.List_Appender(self.stored_ciphertext,a_key)\n",
    "                    self.List_Appender(self.stored_ciphertext,b_key)\n",
    "                else:\n",
    "                    self.logger.error('Co-prime check failed.')\n",
    "            case 'vignere':\n",
    "                key=in_key[0]\n",
    "                key=self.Vignere_Key_Generator(plaintext,key)\n",
    "                vignere_verbo='Encrypting with vignere [key='+key+'] cipher'\n",
    "                for i in trange(len(plaintext),desc=vignere_verbo):\n",
    "                    x=ord(plaintext[i])-ASCII_A\n",
    "                    k=ord(key[i])-ASCII_A\n",
    "                    ciphertext+=chr(ASCII_A+(x+k)%26)\n",
    "                self.List_Initializer(self.stored_ciphertext,ciphertext)\n",
    "                self.List_Appender(self.stored_ciphertext,encryptor)\n",
    "                self.List_Appender(self.stored_ciphertext,in_key[0])\n",
    "        return [ciphertext]\n",
    "    def Decryptor(self,in_ciphertext=stored_ciphertext,in_decryptor=''):\n",
    "        plaintext=''\n",
    "        ciphertext=in_ciphertext[0]\n",
    "        if len(in_decryptor)>=1:\n",
    "            self.logger.debug('1')\n",
    "            decryptor=in_decryptor\n",
    "        else:\n",
    "            decryptor=in_ciphertext[1]\n",
    "\n",
    "        ASCII_A=ord('A')\n",
    "\n",
    "        self.logger.debug('Decrypting \\''+ciphertext+'\\' w/ '+decryptor+'.')\n",
    "        match decryptor:\n",
    "            case 'shift':\n",
    "                shift=in_ciphertext[2]\n",
    "                shift_verbo='Decrypting with shift ['+str(shift)+'] cipher'\n",
    "                for i in trange(len(ciphertext),desc=shift_verbo):\n",
    "                    y=ord(ciphertext[i])-ASCII_A\n",
    "                    plaintext+=chr(ASCII_A+((y-shift))%26)\n",
    "                self.List_Initializer(self.stored_plaintext,plaintext)\n",
    "                self.List_Appender(self.stored_plaintext,decryptor)\n",
    "                self.List_Appender(self.stored_plaintext,shift)\n",
    "            case 'affine':\n",
    "                a_key=in_ciphertext[2]\n",
    "                if self.Is_CoPrime(a_key):\n",
    "                    self.logger.debug('Co-prime check passed.')\n",
    "                    b_key=in_ciphertext[3]\n",
    "                    affine_verbo='Decrypting with affine [a='+str(a_key)+'] [b='+str(b_key)+'] cipher'\n",
    "                    for i in trange(len(ciphertext),desc=affine_verbo):\n",
    "                        y=ord(ciphertext[i])-ASCII_A\n",
    "                        plaintext+=chr(ASCII_A+(self.Inverse_Mod(a_key)*(y-b_key))%26)\n",
    "                self.List_Initializer(self.stored_plaintext,plaintext)\n",
    "                self.List_Appender(self.stored_plaintext,decryptor)\n",
    "                self.List_Appender(self.stored_plaintext,a_key)\n",
    "                self.List_Appender(self.stored_plaintext,b_key)\n",
    "            case 'vignere':\n",
    "                key=in_ciphertext[2]\n",
    "                key=self.Vignere_Key_Generator(ciphertext,key)\n",
    "                vignere_verbo='Decrypting with vignere [key='+key+'] cipher'\n",
    "                for i in trange(len(ciphertext),desc=vignere_verbo):\n",
    "                    y=ord(ciphertext[i])-ASCII_A\n",
    "                    k=ord(key[i])-ASCII_A\n",
    "                    plaintext+=chr(ASCII_A+(y-k)%26)\n",
    "                self.List_Initializer(self.stored_plaintext,plaintext)\n",
    "                self.List_Appender(self.stored_plaintext,decryptor)\n",
    "                self.List_Appender(self.stored_plaintext,in_ciphertext[2])\n",
    "        return [plaintext]\n"
   ]
  },
  {
   "cell_type": "code",
   "execution_count": 137,
   "metadata": {},
   "outputs": [],
   "source": [
    "cy=Cipher(plaintext='HELLO',encryptor='vignere',key='KEY')\n"
   ]
  },
  {
   "cell_type": "code",
   "execution_count": 138,
   "metadata": {},
   "outputs": [
    {
     "data": {
      "text/plain": [
       "['HELLO']"
      ]
     },
     "execution_count": 138,
     "metadata": {},
     "output_type": "execute_result"
    }
   ],
   "source": [
    "cy.stored_plaintext"
   ]
  },
  {
   "cell_type": "code",
   "execution_count": 139,
   "metadata": {},
   "outputs": [
    {
     "name": "stderr",
     "output_type": "stream",
     "text": [
      "Encrypting with vignere [key=KEYKE] cipher: 100%|██████████| 5/5 [00:00<?, ?it/s]\n"
     ]
    },
    {
     "data": {
      "text/plain": [
       "['RIJVS']"
      ]
     },
     "execution_count": 139,
     "metadata": {},
     "output_type": "execute_result"
    }
   ],
   "source": [
    "cy.Encryptor()"
   ]
  },
  {
   "cell_type": "code",
   "execution_count": 140,
   "metadata": {},
   "outputs": [
    {
     "data": {
      "text/plain": [
       "['RIJVS', 'vignere', 'KEY']"
      ]
     },
     "execution_count": 140,
     "metadata": {},
     "output_type": "execute_result"
    }
   ],
   "source": [
    "cy.stored_ciphertext"
   ]
  },
  {
   "cell_type": "code",
   "execution_count": 141,
   "metadata": {},
   "outputs": [
    {
     "name": "stderr",
     "output_type": "stream",
     "text": [
      "Decrypting with vignere [key=KEYKE] cipher: 100%|██████████| 5/5 [00:00<?, ?it/s]\n"
     ]
    },
    {
     "data": {
      "text/plain": [
       "['HELLO']"
      ]
     },
     "execution_count": 141,
     "metadata": {},
     "output_type": "execute_result"
    }
   ],
   "source": [
    "cy.Decryptor()"
   ]
  },
  {
   "cell_type": "code",
   "execution_count": 142,
   "metadata": {},
   "outputs": [
    {
     "data": {
      "text/plain": [
       "['HELLO', 'vignere', 'KEY']"
      ]
     },
     "execution_count": 142,
     "metadata": {},
     "output_type": "execute_result"
    }
   ],
   "source": [
    "cy.stored_plaintext"
   ]
  }
 ],
 "metadata": {
  "kernelspec": {
   "display_name": "Python 3",
   "language": "python",
   "name": "python3"
  },
  "language_info": {
   "codemirror_mode": {
    "name": "ipython",
    "version": 3
   },
   "file_extension": ".py",
   "mimetype": "text/x-python",
   "name": "python",
   "nbconvert_exporter": "python",
   "pygments_lexer": "ipython3",
   "version": "3.11.2"
  }
 },
 "nbformat": 4,
 "nbformat_minor": 2
}
